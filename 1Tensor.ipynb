{
  "cells": [
    {
      "cell_type": "markdown",
      "metadata": {
        "id": "view-in-github",
        "colab_type": "text"
      },
      "source": [
        "<a href=\"https://colab.research.google.com/github/Isudipsubedi/data-science/blob/main/1Tensor.ipynb\" target=\"_parent\"><img src=\"https://colab.research.google.com/assets/colab-badge.svg\" alt=\"Open In Colab\"/></a>"
      ]
    },
    {
      "cell_type": "code",
      "source": [
        "import numpy as np"
      ],
      "metadata": {
        "id": "6zmP1vkl527t"
      },
      "execution_count": null,
      "outputs": []
    },
    {
      "cell_type": "code",
      "execution_count": null,
      "metadata": {
        "id": "A7Upb91y5wWw"
      },
      "outputs": [],
      "source": [
        "arr = np.array([1,2,3,4])"
      ]
    },
    {
      "cell_type": "code",
      "execution_count": null,
      "metadata": {
        "colab": {
          "base_uri": "https://localhost:8080/"
        },
        "id": "wpyWCHmB5wWz",
        "outputId": "400c6b2c-2003-45b6-a998-d07dbfcaa210"
      },
      "outputs": [
        {
          "output_type": "execute_result",
          "data": {
            "text/plain": [
              "array([1, 2, 3, 4])"
            ]
          },
          "metadata": {},
          "execution_count": 4
        }
      ],
      "source": [
        "arr"
      ]
    },
    {
      "cell_type": "code",
      "source": [
        "arr.ndim"
      ],
      "metadata": {
        "colab": {
          "base_uri": "https://localhost:8080/"
        },
        "id": "QmN4ucuu57mf",
        "outputId": "fa2a2f98-7ee9-4928-b4c4-abe91d4a5dfd"
      },
      "execution_count": null,
      "outputs": [
        {
          "output_type": "execute_result",
          "data": {
            "text/plain": [
              "1"
            ]
          },
          "metadata": {},
          "execution_count": 5
        }
      ]
    },
    {
      "cell_type": "code",
      "source": [
        "#1D tensor is also a vector\n",
        "#The dimension of the vector is 4, as it contains 4 values."
      ],
      "metadata": {
        "id": "C9NIl8ab5-Qv"
      },
      "execution_count": null,
      "outputs": []
    },
    {
      "cell_type": "markdown",
      "source": [
        "2D tensor/matrices"
      ],
      "metadata": {
        "id": "_qJlZo1s6kjT"
      }
    },
    {
      "cell_type": "code",
      "source": [
        "mat = np.array([[1,2,3],[4,5,6],[7,8,9]])"
      ],
      "metadata": {
        "id": "DlV5XDZw6LoK"
      },
      "execution_count": null,
      "outputs": []
    },
    {
      "cell_type": "code",
      "source": [
        "mat\n"
      ],
      "metadata": {
        "colab": {
          "base_uri": "https://localhost:8080/"
        },
        "id": "5KRFNcJZ6yOh",
        "outputId": "ed10fcfb-385c-47e7-d758-5c1cf58f8140"
      },
      "execution_count": null,
      "outputs": [
        {
          "output_type": "execute_result",
          "data": {
            "text/plain": [
              "array([[1, 2, 3],\n",
              "       [4, 5, 6],\n",
              "       [7, 8, 9]])"
            ]
          },
          "metadata": {},
          "execution_count": 11
        }
      ]
    },
    {
      "cell_type": "code",
      "source": [
        "mat.ndim"
      ],
      "metadata": {
        "colab": {
          "base_uri": "https://localhost:8080/"
        },
        "id": "1gKoXhZw7FoP",
        "outputId": "3257f435-372c-4205-d79c-2213317a5499"
      },
      "execution_count": null,
      "outputs": [
        {
          "output_type": "execute_result",
          "data": {
            "text/plain": [
              "2"
            ]
          },
          "metadata": {},
          "execution_count": 12
        }
      ]
    },
    {
      "cell_type": "markdown",
      "source": [
        "**ND Tensor**"
      ],
      "metadata": {
        "id": "l9DhESG67OI2"
      }
    },
    {
      "cell_type": "code",
      "source": [
        "mat1 = np.array([[1,2,3],[4,5,6],[7,8,9]])"
      ],
      "metadata": {
        "id": "qUl72Xkr7fic"
      },
      "execution_count": null,
      "outputs": []
    },
    {
      "cell_type": "code",
      "source": [
        "mat2 = np.array([[1,2,3],[4,5,6],[7,8,9]])"
      ],
      "metadata": {
        "id": "8I_slLsS7IHq"
      },
      "execution_count": null,
      "outputs": []
    },
    {
      "cell_type": "code",
      "source": [
        "ND = np.array(([mat1,mat2,mat2],[mat1,mat2,mat2],[mat1,mat2,mat2]))"
      ],
      "metadata": {
        "id": "d4U9FIhs7qlu"
      },
      "execution_count": null,
      "outputs": []
    },
    {
      "cell_type": "code",
      "source": [
        "ND\n"
      ],
      "metadata": {
        "colab": {
          "base_uri": "https://localhost:8080/"
        },
        "id": "eBXbwIAH74VR",
        "outputId": "86bd5e82-51ce-42b9-9cea-3e189f242a09"
      },
      "execution_count": null,
      "outputs": [
        {
          "output_type": "execute_result",
          "data": {
            "text/plain": [
              "array([[[[1, 2, 3],\n",
              "         [4, 5, 6],\n",
              "         [7, 8, 9]],\n",
              "\n",
              "        [[1, 2, 3],\n",
              "         [4, 5, 6],\n",
              "         [7, 8, 9]],\n",
              "\n",
              "        [[1, 2, 3],\n",
              "         [4, 5, 6],\n",
              "         [7, 8, 9]]],\n",
              "\n",
              "\n",
              "       [[[1, 2, 3],\n",
              "         [4, 5, 6],\n",
              "         [7, 8, 9]],\n",
              "\n",
              "        [[1, 2, 3],\n",
              "         [4, 5, 6],\n",
              "         [7, 8, 9]],\n",
              "\n",
              "        [[1, 2, 3],\n",
              "         [4, 5, 6],\n",
              "         [7, 8, 9]]],\n",
              "\n",
              "\n",
              "       [[[1, 2, 3],\n",
              "         [4, 5, 6],\n",
              "         [7, 8, 9]],\n",
              "\n",
              "        [[1, 2, 3],\n",
              "         [4, 5, 6],\n",
              "         [7, 8, 9]],\n",
              "\n",
              "        [[1, 2, 3],\n",
              "         [4, 5, 6],\n",
              "         [7, 8, 9]]]])"
            ]
          },
          "metadata": {},
          "execution_count": 17
        }
      ]
    },
    {
      "cell_type": "code",
      "source": [
        "ND.ndim"
      ],
      "metadata": {
        "colab": {
          "base_uri": "https://localhost:8080/"
        },
        "id": "kYmibTRt75CJ",
        "outputId": "05b3eece-a194-4091-b507-3857a5247879"
      },
      "execution_count": null,
      "outputs": [
        {
          "output_type": "execute_result",
          "data": {
            "text/plain": [
              "4"
            ]
          },
          "metadata": {},
          "execution_count": 18
        }
      ]
    },
    {
      "cell_type": "code",
      "source": [
        "#Machine Learning 0-5D"
      ],
      "metadata": {
        "id": "lSUHwb9_77or"
      },
      "execution_count": null,
      "outputs": []
    },
    {
      "cell_type": "markdown",
      "source": [
        "**RANK, AXES, SHAPE**"
      ],
      "metadata": {
        "id": "-Jm8Wa-28bLn"
      }
    },
    {
      "cell_type": "code",
      "source": [
        "# NO. of axix = Rank = No. of aim"
      ],
      "metadata": {
        "id": "_ylz25vq8kKR"
      },
      "execution_count": 1,
      "outputs": []
    },
    {
      "cell_type": "markdown",
      "source": [
        "**Example of 1D Tensor**"
      ],
      "metadata": {
        "id": "qgqDSrxoZ1xk"
      }
    },
    {
      "cell_type": "code",
      "source": [
        "#lets say we have dataset of student with 4 columns cgpa | iq | state | placement\n",
        "#students(10000)\n",
        "#let ktm = 1 and non ktm = 0\n",
        "#[3.5,92,0] = 1D Tensor = 3D vector"
      ],
      "metadata": {
        "id": "5etxNUiMZrbW"
      },
      "execution_count": 5,
      "outputs": []
    },
    {
      "cell_type": "markdown",
      "source": [
        "**Example of 2D Tensor**"
      ],
      "metadata": {
        "id": "K8_crQ3nbRPW"
      }
    },
    {
      "cell_type": "markdown",
      "source": [
        "**Example of 3D Tensor**"
      ],
      "metadata": {
        "id": "IZpsLI49b1uG"
      }
    },
    {
      "cell_type": "code",
      "source": [
        "#usecase in NLP\n",
        "# Hi | Shova | Sudipa | Nabaraj\n",
        "# 1      0       0         0"
      ],
      "metadata": {
        "id": "l1_2yzY1aC3j"
      },
      "execution_count": 7,
      "outputs": []
    },
    {
      "cell_type": "code",
      "source": [
        "# Hi Shova\n",
        "# Hi Sudipa\n",
        "# Hi Nabaraj\n",
        "\n",
        "# [1,0,0,0][0,1,0,0]\n",
        "# [1,0,0,0][0,0,1,0]\n",
        "# [1,0,0,0][0,0,0,1]\n",
        "\n",
        "[\n",
        " [[1,0,0,0],[0,1,0,0]]\n",
        " [[1,0,0,0],[0,0,1,0]]\n",
        " [[1,0,0,0],[0,0,0,1]]\n",
        "]"
      ],
      "metadata": {
        "id": "CkyA09yFdg8p"
      },
      "execution_count": null,
      "outputs": []
    },
    {
      "cell_type": "markdown",
      "source": [
        "Rank = 3\n",
        "No. of items = 3 * 2 * 4"
      ],
      "metadata": {
        "id": "BiUI6qy-elRO"
      }
    },
    {
      "cell_type": "markdown",
      "source": [
        "**Timeseries Data**"
      ],
      "metadata": {
        "id": "eKsg6kHie25a"
      }
    },
    {
      "cell_type": "code",
      "source": [
        "# stock's highest & lowest price during the day for 365 days\n",
        "# (365, 2) 2D tensor"
      ],
      "metadata": {
        "id": "WBE3xiYEesbf"
      },
      "execution_count": null,
      "outputs": []
    },
    {
      "cell_type": "markdown",
      "source": [
        "        Highest    Lowest\n",
        "    D1  ------     ------\n",
        "    D1  ------     ------\n",
        "    D1  ------     ------\n",
        "    D1  ------     ------    \n",
        "    D1  ------     ------\n",
        "    D1  ------     ------    \n",
        "    D1  ------     ------\n",
        "    D1  ------     ------\n",
        "    "
      ],
      "metadata": {
        "id": "4ssKUVTtfOhz"
      }
    },
    {
      "cell_type": "markdown",
      "source": [
        "What if 10 years : 3D tensor\n",
        "\n",
        "```\n",
        "# This is formatted as code\n",
        "```\n",
        "\n"
      ],
      "metadata": {
        "id": "qgkIV0B2fnNI"
      }
    },
    {
      "cell_type": "code",
      "source": [
        "10 * 365 * 2"
      ],
      "metadata": {
        "colab": {
          "base_uri": "https://localhost:8080/"
        },
        "id": "E02bh_Zlfik7",
        "outputId": "659e4757-f9e8-4866-ade5-14a8b3920079"
      },
      "execution_count": 9,
      "outputs": [
        {
          "output_type": "execute_result",
          "data": {
            "text/plain": [
              "7300"
            ]
          },
          "metadata": {},
          "execution_count": 9
        }
      ]
    },
    {
      "cell_type": "markdown",
      "source": [
        "**Example 4D Tensor : Computer vision**\n",
        "\n",
        "\n"
      ],
      "metadata": {
        "id": "Xo2jk8kxf_BX"
      }
    },
    {
      "cell_type": "markdown",
      "source": [
        "**Example 5D Tensor : Videos**"
      ],
      "metadata": {
        "id": "aMnLTj1hgUlS"
      }
    },
    {
      "cell_type": "code",
      "source": [],
      "metadata": {
        "id": "-cmgE7uof3ai"
      },
      "execution_count": null,
      "outputs": []
    }
  ],
  "metadata": {
    "kernelspec": {
      "display_name": "Python 3",
      "language": "python",
      "name": "python3"
    },
    "language_info": {
      "name": "python",
      "version": "3.12.2"
    },
    "colab": {
      "provenance": [],
      "include_colab_link": true
    }
  },

  "nbformat": 4,
  "nbformat_minor": 0
}

