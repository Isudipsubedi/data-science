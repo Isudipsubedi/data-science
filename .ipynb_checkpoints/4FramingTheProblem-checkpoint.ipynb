{
 "cells": [
  {
   "cell_type": "code",
   "execution_count": 1,
   "id": "f85ea91e-9a1b-42cc-b1fc-9d48058cb863",
   "metadata": {},
   "outputs": [],
   "source": [
    "#framing the problem: from business problem to machine learning problem"
   ]
  },
  {
   "cell_type": "code",
   "execution_count": 2,
   "id": "a2afe94b-8c9c-46a2-9d15-7076fc240733",
   "metadata": {},
   "outputs": [],
   "source": [
    "# Example Netflix"
   ]
  },
  {
   "cell_type": "code",
   "execution_count": 6,
   "id": "8ccae41f-692e-4846-9c51-c80b9a1ea165",
   "metadata": {},
   "outputs": [
    {
     "ename": "SyntaxError",
     "evalue": "incomplete input (1285883400.py, line 1)",
     "output_type": "error",
     "traceback": [
      "\u001b[1;36m  Cell \u001b[1;32mIn[6], line 1\u001b[1;36m\u001b[0m\n\u001b[1;33m    \"\"\"\u001b[0m\n\u001b[1;37m    ^\u001b[0m\n\u001b[1;31mSyntaxError\u001b[0m\u001b[1;31m:\u001b[0m incomplete input\n"
     ]
    }
   ],
   "source": [
    "\"\"\"\n",
    "Decreasing the churn rate to increase thre revenue\n",
    "\"\"\""
   ]
  },
  {
   "cell_type": "code",
   "execution_count": null,
   "id": "05dfd6ca-e49d-4e3b-8a6d-989a3d207439",
   "metadata": {},
   "outputs": [],
   "source": []
  }
 ],
 "metadata": {
  "kernelspec": {
   "display_name": "Python 3 (ipykernel)",
   "language": "python",
   "name": "python3"
  },
  "language_info": {
   "codemirror_mode": {
    "name": "ipython",
    "version": 3
   },
   "file_extension": ".py",
   "mimetype": "text/x-python",
   "name": "python",
   "nbconvert_exporter": "python",
   "pygments_lexer": "ipython3",
   "version": "3.12.8"
  }
 },
 "nbformat": 4,
 "nbformat_minor": 5
}
