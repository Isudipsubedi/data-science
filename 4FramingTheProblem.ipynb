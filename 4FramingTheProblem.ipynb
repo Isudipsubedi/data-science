{
 "cells": [
  {
   "cell_type": "code",
   "execution_count": 1,
   "id": "f85ea91e-9a1b-42cc-b1fc-9d48058cb863",
   "metadata": {},
   "outputs": [],
   "source": [
    "#framing the problem: from business problem to machine learning problem"
   ]
  },
  {
   "cell_type": "code",
   "execution_count": 2,
   "id": "a2afe94b-8c9c-46a2-9d15-7076fc240733",
   "metadata": {},
   "outputs": [],
   "source": [
    "# Example Netflix"
   ]
  },
  {
   "cell_type": "code",
   "execution_count": 8,
   "id": "8ccae41f-692e-4846-9c51-c80b9a1ea165",
   "metadata": {},
   "outputs": [
    {
     "data": {
      "text/plain": [
       "'\\nincrease thre revenue\\nMathematical problem = decrease the churn rate from 4% to 3%\\n'"
      ]
     },
     "execution_count": 8,
     "metadata": {},
     "output_type": "execute_result"
    }
   ],
   "source": [
    "\"\"\"\n",
    "increase thre revenue\n",
    "Mathematical problem = decrease the churn rate from 4% to 3%\n",
    "\"\"\""
   ]
  },
  {
   "cell_type": "code",
   "execution_count": 10,
   "id": "05dfd6ca-e49d-4e3b-8a6d-989a3d207439",
   "metadata": {},
   "outputs": [],
   "source": [
    "#Type of problem\n",
    "\n",
    "#big picture : what will be the end product\n",
    "#we wont do churn rate prediction , we are going to identify the customers who are going to leave the platform\n",
    "#Identify the problems\n",
    "#There might be different weights of the chances to leave : sentiment/probability "
   ]
  },
  {
   "cell_type": "code",
   "execution_count": null,
   "id": "fe16ac4a-1ec8-4d26-9807-f0f571b8f407",
   "metadata": {},
   "outputs": [],
   "source": [
    "#Getting the data\n",
    "#watch time\n",
    "#search but did not find\n",
    "#conrent left in the middle\n",
    "#clicked on recommendations (order of recommendation) "
   ]
  }
 ],
 "metadata": {
  "kernelspec": {
   "display_name": "Python 3 (ipykernel)",
   "language": "python",
   "name": "python3"
  },
  "language_info": {
   "codemirror_mode": {
    "name": "ipython",
    "version": 3
   },
   "file_extension": ".py",
   "mimetype": "text/x-python",
   "name": "python",
   "nbconvert_exporter": "python",
   "pygments_lexer": "ipython3",
   "version": "3.12.8"
  }
 },
 "nbformat": 4,
 "nbformat_minor": 5
}
