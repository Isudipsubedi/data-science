{
 "cells": [
  {
   "cell_type": "code",
   "execution_count": 1,
   "id": "b8b70f3c-d51e-4e66-9cf0-726998db0c71",
   "metadata": {},
   "outputs": [],
   "source": [
    "#JSON SQL"
   ]
  },
  {
   "cell_type": "code",
   "execution_count": 2,
   "id": "184aaac0-1818-4448-a80b-3142490939fd",
   "metadata": {},
   "outputs": [],
   "source": [
    "#JSON : Java Script On Notation : Universal format\n",
    "# important usecase: response from API is generally in the json format\n",
    "# Multiple languages can parse JSON : java python"
   ]
  },
  {
   "cell_type": "code",
   "execution_count": 3,
   "id": "448d54f7-f87b-4b79-92fa-e8a0acf96536",
   "metadata": {},
   "outputs": [],
   "source": [
    "#SQL : Structured Query Language\n",
    "#Directly loading the data from database to pandas dataframe"
   ]
  },
  {
   "cell_type": "code",
   "execution_count": 4,
   "id": "4ab99cf5-466f-4fe0-a224-bbdba49a842c",
   "metadata": {},
   "outputs": [],
   "source": [
    "import pandas as pd"
   ]
  },
  {
   "cell_type": "code",
   "execution_count": null,
   "id": "31690bae-c6d4-4cb1-a17f-f54d0ba04f2d",
   "metadata": {},
   "outputs": [],
   "source": [
    "ka"
   ]
  }
 ],
 "metadata": {
  "kernelspec": {
   "display_name": "Python 3 (ipykernel)",
   "language": "python",
   "name": "python3"
  },
  "language_info": {
   "codemirror_mode": {
    "name": "ipython",
    "version": 3
   },
   "file_extension": ".py",
   "mimetype": "text/x-python",
   "name": "python",
   "nbconvert_exporter": "python",
   "pygments_lexer": "ipython3",
   "version": "3.12.8"
  }
 },
 "nbformat": 4,
 "nbformat_minor": 5
}
