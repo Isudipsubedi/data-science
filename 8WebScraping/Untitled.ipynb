{
 "cells": [
  {
   "cell_type": "code",
   "execution_count": 2,
   "id": "6a51c307-7e79-459d-94a1-df9fdcf0993a",
   "metadata": {},
   "outputs": [],
   "source": [
    "# We will be scraping the data from AmbitionBox\n",
    "# Unlike TMDB they dont provide us with the API\n",
    "# so we would need to perform webscraping"
   ]
  },
  {
   "cell_type": "code",
   "execution_count": 3,
   "id": "c65f8451-d1a0-4f19-873b-268e5d72c6b9",
   "metadata": {},
   "outputs": [],
   "source": [
    "#We will scrape the data of the companies info on the website\n",
    "# from the weburl we have seen that there are 333 pages in the website\n",
    "\n",
    "# We will sequentially hit the urls: https://www.ambitionbox.com/list-of-companies?campaign=desktop_nav&page=7 \n",
    "# from pages 1 through to the end\n",
    "\n",
    "# we will extract Company name, rating, no. of reviews, public/private, headquarter, age, no.of employees , and tags as csv \n",
    "# and desscription"
   ]
  },
  {
   "cell_type": "code",
   "execution_count": 4,
   "id": "367daa9c-53d3-4ea0-81e8-08312b72f952",
   "metadata": {},
   "outputs": [],
   "source": [
    "#there will be in total 9 columns and rows equal to no. of companies"
   ]
  },
  {
   "cell_type": "code",
   "execution_count": 5,
   "id": "0a121370-cec4-4df1-84fa-cc7221338c76",
   "metadata": {},
   "outputs": [],
   "source": [
    "import pandas as pd\n",
    "import requests \n",
    "from bs4 import BeautifulSoup "
   ]
  },
  {
   "cell_type": "code",
   "execution_count": 6,
   "id": "ee1cd689-d587-4026-a21b-e16344463ed1",
   "metadata": {},
   "outputs": [
    {
     "data": {
      "text/plain": [
       "<Response [403]>"
      ]
     },
     "execution_count": 6,
     "metadata": {},
     "output_type": "execute_result"
    }
   ],
   "source": [
    "requests.get('https://www.ambitionbox.com/list-of-companies?campaign=desktop_nav&page=1')"
   ]
  },
  {
   "cell_type": "code",
   "execution_count": 7,
   "id": "736f47c8-0859-47de-aa54-0dd84e8ac5c1",
   "metadata": {},
   "outputs": [],
   "source": [
    "# initially got response [403] specifying bad request"
   ]
  },
  {
   "cell_type": "code",
   "execution_count": 9,
   "id": "836e2c7e-3234-46be-9b9b-951ecef3ec30",
   "metadata": {},
   "outputs": [],
   "source": [
    "# .text to get the content"
   ]
  },
  {
   "cell_type": "code",
   "execution_count": 10,
   "id": "fbf789e0-efc3-43d1-9ac2-ad6db0b1e37b",
   "metadata": {},
   "outputs": [
    {
     "data": {
      "text/plain": [
       "'<HTML><HEAD>\\n<TITLE>Access Denied</TITLE>\\n</HEAD><BODY>\\n<H1>Access Denied</H1>\\n \\nYou don\\'t have permission to access \"http&#58;&#47;&#47;www&#46;ambitionbox&#46;com&#47;list&#45;of&#45;companies&#63;\" on this server.<P>\\nReference&#32;&#35;18&#46;8c96d367&#46;1737298103&#46;1aed1a1b\\n<P>https&#58;&#47;&#47;errors&#46;edgesuite&#46;net&#47;18&#46;8c96d367&#46;1737298103&#46;1aed1a1b</P>\\n</BODY>\\n</HTML>\\n'"
      ]
     },
     "execution_count": 10,
     "metadata": {},
     "output_type": "execute_result"
    }
   ],
   "source": [
    "requests.get('https://www.ambitionbox.com/list-of-companies?campaign=desktop_nav&page=1').text"
   ]
  },
  {
   "cell_type": "code",
   "execution_count": 11,
   "id": "8599ae18-8535-48d9-8958-da216bea71d3",
   "metadata": {},
   "outputs": [],
   "source": [
    "# you dont have permission to access this url"
   ]
  },
  {
   "cell_type": "code",
   "execution_count": 14,
   "id": "413ad141-6412-44f5-974c-cc7c7dbb419c",
   "metadata": {},
   "outputs": [],
   "source": [
    "# website : there is a concept of robots.txt\n",
    "# in the file you write the name of files which you want that webscrapers and search engines like google cant crawl\n",
    "# such files cant be scrapped by http requests like shown above"
   ]
  },
  {
   "cell_type": "code",
   "execution_count": 15,
   "id": "eb874bac-de55-4114-9586-118d03cfba94",
   "metadata": {},
   "outputs": [],
   "source": [
    "# Need to show as if the request is coming from browser"
   ]
  },
  {
   "cell_type": "code",
   "execution_count": null,
   "id": "9b272676-2da0-463b-8df9-5bd32a308515",
   "metadata": {},
   "outputs": [],
   "source": [
    "# Define headers\n",
    "headers = {\n",
    "    'User-Agent': 'Mozilla/5.0 (Windows NT 6.3; Win64; x64) AppleWebKit/537.36 (KHTML, like Gecko) Chrome/80.0.3987.162 Safari/537.36'\n",
    "}\n",
    "\n",
    "# Make the request\n",
    "url = 'https://www.ambitionbox.com/list-of-companies?campaign=desktop_nav&page=1'\n",
    "requests.get(url, headers=headers).text\n"
   ]
  },
  {
   "cell_type": "code",
   "execution_count": null,
   "id": "f9c072c6-4493-42f4-8922-741e4c1c72fe",
   "metadata": {},
   "outputs": [],
   "source": [
    "#couldn't run this: as am"
   ]
  }
 ],
 "metadata": {
  "kernelspec": {
   "display_name": "Python 3 (ipykernel)",
   "language": "python",
   "name": "python3"
  },
  "language_info": {
   "codemirror_mode": {
    "name": "ipython",
    "version": 3
   },
   "file_extension": ".py",
   "mimetype": "text/x-python",
   "name": "python",
   "nbconvert_exporter": "python",
   "pygments_lexer": "ipython3",
   "version": "3.12.8"
  }
 },
 "nbformat": 4,
 "nbformat_minor": 5
}
